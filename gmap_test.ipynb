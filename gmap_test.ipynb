{
 "cells": [
  {
   "cell_type": "code",
   "execution_count": 1,
   "metadata": {},
   "outputs": [
    {
     "name": "stderr",
     "output_type": "stream",
     "text": [
      "2025-03-20 13:33:36.877 WARNING streamlit.runtime.scriptrunner_utils.script_run_context: Thread 'MainThread': missing ScriptRunContext! This warning can be ignored when running in bare mode.\n",
      "2025-03-20 13:33:37.468 \n",
      "  \u001b[33m\u001b[1mWarning:\u001b[0m to view this Streamlit app on a browser, run it with the following\n",
      "  command:\n",
      "\n",
      "    streamlit run c:\\Users\\Toto\\Documents\\_PLP\\LoCoTek\\House_style_ML\\myenv\\Lib\\site-packages\\ipykernel_launcher.py [ARGUMENTS]\n",
      "2025-03-20 13:33:37.468 Thread 'MainThread': missing ScriptRunContext! This warning can be ignored when running in bare mode.\n",
      "2025-03-20 13:33:37.468 Thread 'MainThread': missing ScriptRunContext! This warning can be ignored when running in bare mode.\n",
      "2025-03-20 13:33:37.474 Thread 'MainThread': missing ScriptRunContext! This warning can be ignored when running in bare mode.\n",
      "2025-03-20 13:33:37.477 Thread 'MainThread': missing ScriptRunContext! This warning can be ignored when running in bare mode.\n",
      "2025-03-20 13:33:37.477 Thread 'MainThread': missing ScriptRunContext! This warning can be ignored when running in bare mode.\n",
      "2025-03-20 13:33:37.477 Session state does not function when running a script without `streamlit run`\n",
      "2025-03-20 13:33:37.479 Thread 'MainThread': missing ScriptRunContext! This warning can be ignored when running in bare mode.\n",
      "2025-03-20 13:33:37.479 Thread 'MainThread': missing ScriptRunContext! This warning can be ignored when running in bare mode.\n",
      "2025-03-20 13:33:37.480 Thread 'MainThread': missing ScriptRunContext! This warning can be ignored when running in bare mode.\n",
      "2025-03-20 13:33:37.481 Thread 'MainThread': missing ScriptRunContext! This warning can be ignored when running in bare mode.\n",
      "2025-03-20 13:33:37.483 Thread 'MainThread': missing ScriptRunContext! This warning can be ignored when running in bare mode.\n",
      "2025-03-20 13:33:37.485 Thread 'MainThread': missing ScriptRunContext! This warning can be ignored when running in bare mode.\n",
      "2025-03-20 13:33:37.485 Thread 'MainThread': missing ScriptRunContext! This warning can be ignored when running in bare mode.\n",
      "2025-03-20 13:33:37.485 Thread 'MainThread': missing ScriptRunContext! This warning can be ignored when running in bare mode.\n",
      "2025-03-20 13:33:37.485 Thread 'MainThread': missing ScriptRunContext! This warning can be ignored when running in bare mode.\n",
      "2025-03-20 13:33:37.488 Thread 'MainThread': missing ScriptRunContext! This warning can be ignored when running in bare mode.\n",
      "2025-03-20 13:33:37.488 Thread 'MainThread': missing ScriptRunContext! This warning can be ignored when running in bare mode.\n",
      "2025-03-20 13:33:37.490 Thread 'MainThread': missing ScriptRunContext! This warning can be ignored when running in bare mode.\n",
      "2025-03-20 13:33:37.490 Thread 'MainThread': missing ScriptRunContext! This warning can be ignored when running in bare mode.\n"
     ]
    }
   ],
   "source": [
    "import streamlit as st\n",
    "import pydeck as pdk\n",
    "\n",
    "# ตั้งค่าชื่อ WebApp\n",
    "st.title(\"แอปแสดงตำแหน่งบนแผนที่\")\n",
    "\n",
    "# รับค่า Latitude และ Longitude จากผู้ใช้\n",
    "lat = st.number_input(\"กรอก Latitude\", value=13.7563)  # ค่าเริ่มต้นเป็น กทม.\n",
    "lon = st.number_input(\"กรอก Longitude\", value=100.5018)\n",
    "\n",
    "# ตรวจสอบค่าที่ป้อนเข้ามา\n",
    "if st.button(\"แสดงตำแหน่ง\"):\n",
    "    # แสดงแผนที่โดยใช้ pydeck\n",
    "    view_state = pdk.ViewState(\n",
    "        latitude=lat,\n",
    "        longitude=lon,\n",
    "        zoom=15,\n",
    "        pitch=0,\n",
    "    )\n",
    "\n",
    "    # สร้าง layer สำหรับแสดง Marker\n",
    "    layer = pdk.Layer(\n",
    "        \"ScatterplotLayer\",\n",
    "        data=[{\"lat\": lat, \"lon\": lon}],\n",
    "        get_position=[\"lon\", \"lat\"],\n",
    "        get_color=[255, 0, 0, 160],\n",
    "        get_radius=100,\n",
    "    )\n",
    "\n",
    "    # แสดงแผนที่\n",
    "    st.pydeck_chart(pdk.Deck(\n",
    "        map_style=\"mapbox://styles/mapbox/streets-v11\",  # ใช้แผนที่สไตล์ streets\n",
    "        initial_view_state=view_state,\n",
    "        layers=[layer],\n",
    "    ))\n",
    "\n",
    "    st.success(f\"ตำแหน่งที่เลือก: Latitude {lat}, Longitude {lon}\")\n",
    "\n"
   ]
  }
 ],
 "metadata": {
  "kernelspec": {
   "display_name": "myenv",
   "language": "python",
   "name": "python3"
  },
  "language_info": {
   "codemirror_mode": {
    "name": "ipython",
    "version": 3
   },
   "file_extension": ".py",
   "mimetype": "text/x-python",
   "name": "python",
   "nbconvert_exporter": "python",
   "pygments_lexer": "ipython3",
   "version": "3.11.4"
  }
 },
 "nbformat": 4,
 "nbformat_minor": 2
}
